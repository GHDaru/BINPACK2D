{
 "cells": [
  {
   "cell_type": "code",
   "execution_count": 1,
   "metadata": {},
   "outputs": [],
   "source": [
    "import numpy as np"
   ]
  },
  {
   "cell_type": "code",
   "execution_count": 124,
   "metadata": {},
   "outputs": [],
   "source": [
    "#Classe para os elementos bidimensionais do problema de corte        \n",
    "class Element():\n",
    "    id_object = 0\n",
    "    def __init__(self, width, height, name=''):\n",
    "        self.name = \"Item_{:03d}\".format(Element.id_object)\n",
    "        self.width = width\n",
    "        self.height = height\n",
    "        Element.id_object+=1\n",
    "    def __str__(self):\n",
    "        return self.name + ':(' + str(self.width) + ',' + str(self.height) + ')'\n",
    "\n",
    "class Container():\n",
    "    def __init__(self, width, height):\n",
    "        self.width = width\n",
    "        self.height = height\n",
    "    def __str__(self):\n",
    "        return 'Container('+str(self.width)+\",\"+str(self.height)+\")\"\n",
    "    def get_container_dim(self):\n",
    "        return [self.width, self.height]\n",
    "        \n",
    "class Problem2D():\n",
    "    def __init__(self, list_elements = [], container = [0,0] , demand = []):\n",
    "        self.num_elements = len(list_elements)\n",
    "        if self.num_elements > 0:\n",
    "            self.list_elements = [ Element(x,y) for x,y in list_elements]\n",
    "        else:\n",
    "            self.list_elements = []        \n",
    "        self.container = Container(container[0],container[1])\n",
    "        if len(demand)==0:\n",
    "            self.demand = [999]*self.num_elements\n",
    "        else:\n",
    "            self.demand = demand\n",
    "        \n",
    "\n",
    "    def __str__(self):\n",
    "        lst_elements = ','.join([str(el) for el in self.list_elements])\n",
    "        return lst_elements + \" \" + str(self.container) + str(self.demand)\n",
    "        \n",
    "    def load_elements_from_file(self, file):\n",
    "        pass\n",
    "    \n",
    "    def generate_random_problem(self, num_elements, container_width, container_height):\n",
    "        pass\n",
    "    \n",
    "    def to_list(self):\n",
    "        return [ [el.width, el.height] for el in self.list_elements]\n",
    "    \n",
    "    def plot(self, element, position, color = 'bisque', title = '', color_element='seagreen'):\n",
    "        #position is a triple containing a list with [element, x_position, y_position]\n",
    "        import matplotlib.pyplot as plt\n",
    "        from matplotlib.collections import PatchCollection\n",
    "        from matplotlib.patches import Rectangle\n",
    "        #prepare data\n",
    "        element_size = self.to_list()\n",
    "        container = self.container.get_container_dim()\n",
    "        cx = container[0]\n",
    "        cy = container[1]\n",
    "        #generate rectangles\n",
    "        all_rect = [ Rectangle((position[ind][0],position[ind][1]),element_size[el][0],element_size[el][1]) for ind,el in enumerate(element)] \n",
    "        fig, ax = plt.subplots(1)\n",
    "        pc = PatchCollection(all_rect, color=color_element, alpha=0.5,\n",
    "                         edgecolor='black',linewidth=1)\n",
    "        # Add collection to axes\n",
    "        ax.add_collection(pc)\n",
    "        ax.set_facecolor(color) \n",
    "        plt.xlim([0,cx])\n",
    "        plt.ylim([0,cy])\n",
    "        plt.title(title)\n",
    "        #plot element dimension\n",
    "        for ind,el in enumerate(element):\n",
    "            ax.text(position[ind][0]+element_size[el][0]/2,\n",
    "                    position[ind][1]+element_size[el][1]/2,\n",
    "                    '{}x{}'.format(element_size[el][0],element_size[el][1]),\n",
    "                    horizontalalignment='center',\n",
    "                    verticalalignment='center', color='k')\n",
    "        plt.show()\n",
    "        \n",
    "\n",
    "class Solution():\n",
    "    def __init__(self, container = [0,0] ):\n",
    "        self.list_elements = []\n",
    "        self.position_elements = []\n",
    "        self.used_area = 0\n",
    "        self.control = np.zeros(container[0])\n",
    "    def __str__(self):\n",
    "        return 'Elementos:{}\\nÁrea:{}\\nControle:{}\\nPosition:{}'.format(self.list_elements,self.used_area,self.control,self.position_elements)\n",
    "  \n",
    "    \n",
    "class Solver2D():\n",
    "    def __init__(self, elements, container, demand=[]):\n",
    "        self.problem = Problem2D(elements, container, demand)\n",
    "        \n",
    "    def down_right(self, list_elements, debug = False):\n",
    "        dim_container = self.problem.container.get_container_dim()\n",
    "        solution = Solution(dim_container)\n",
    "        demand = self.problem.demand\n",
    "        used = [0]*len(demand)\n",
    "        for el in list_elements:\n",
    "            orientation = 0\n",
    "            if el > self.problem.num_elements: #rotated element\n",
    "                el = el - self.problem.num_elements\n",
    "                orientation = 90                \n",
    "            if used[el]<demand[el]:\n",
    "                solution, inserted = self.put_element_down_right(el, solution, debug = debug, orientation)\n",
    "                used[el] += inserted*1\n",
    "        return solution\n",
    "        \n",
    "    \n",
    "    def put_element_down_right(self, element, solution, debug = False, orientation = 0):   \n",
    "        #check if is possible put the element\n",
    "        #Rule: if exist an interval with size = width that greatest value is less than height\n",
    "        if orientation == 0:\n",
    "            width = self.problem.list_elements[element].width\n",
    "            height = self.problem.list_elements[element].height\n",
    "        else:\n",
    "            width = self.problem.list_elements[element].height\n",
    "            height = self.problem.list_elements[element].width\n",
    "        container = self.problem.container.get_container_dim()\n",
    "        cx = container[0]\n",
    "        cy = container[1]\n",
    "        control = solution.control\n",
    "        position = -1\n",
    "        pos = width-1\n",
    "        if cy-max(control[:pos+1]) >= height: #its possible put the element in vertical\n",
    "            height_ref = control[pos]\n",
    "            while pos < cx and max(control[:pos+1])<=height_ref: #walk horizontal\n",
    "                pos+=1\n",
    "            if pos - width >= 0:\n",
    "                position = [pos - width, height_ref]\n",
    "        if position != -1: #\n",
    "            solution.list_elements.append(element + )\n",
    "            solution.position_elements.append(position)\n",
    "            solution.used_area += width * height            \n",
    "            solution.control = [(height_ref+height if p in range(position[0],position[0]+width) else control[p]) for p in range(cx)]            \n",
    "        if debug:\n",
    "            print(position)\n",
    "            print(solution.control)\n",
    "            self.problem.plot(solution.list_elements, solution.position_elements)\n",
    "        inserted = (position!=-1)\n",
    "        return solution, inserted        \n",
    "    \n",
    "    def random_solution(self, size = 100):\n",
    "        max_value = 0\n",
    "        area_container = self.problem.container.get_container_dim()\n",
    "        area_container = area_container[0]*area_container[1]\n",
    "        area_elements = [x*y for x,y in self.problem.to_list() ]\n",
    "        min_area = min(area_elements)\n",
    "        max_elements = area_container // min_area\n",
    "        for i in range(size):\n",
    "            seq = np.random.randint(0,self.problem.num_elements,max_elements)\n",
    "            s = x.down_right(seq, restriction = True)\n",
    "            if s.used_area > max_value:\n",
    "                sol_best = s\n",
    "                max_value = s.used_area\n",
    "        return sol_best\n",
    "    \n",
    "    #def neighboor(self, solution):\n",
    "        "
   ]
  },
  {
   "cell_type": "code",
   "execution_count": 134,
   "metadata": {},
   "outputs": [
    {
     "data": {
      "image/png": "[encoded data removed]",
      "text/plain": [
       "<Figure size 432x288 with 1 Axes>"
      ]
     },
     "metadata": {
      "needs_background": "light"
     },
     "output_type": "display_data"
    }
   ],
   "source": [
    "#x = Solver2D([[3,8],[7,5],[3,6],[4,6],[2,2]],[10,10])\n",
    "x = Solver2D([[3,8],[7,5],[3,6],[4,6]],[10,16],[2,2,2,2])\n",
    "#x.generate_random_solution()\n",
    "#s = x.random_solution(size=100)\n",
    "#x.problem.plot(s.list_elements, s.position_elements, title = str(s.list_elements) + ' used:' + str(s.used_area))\n",
    "s = x.down_right([0,0,1,1,2,2,3,3], restriction = True, debug = False)\n",
    "x.problem.plot(s.list_elements, s.position_elements, title = str(s.list_elements) + ' used:' + str(s.used_area))"
   ]
  },
  {
   "cell_type": "code",
   "execution_count": 41,
   "metadata": {},
   "outputs": [
    {
     "data": {
      "image/png": "[encoded data removed]",
      "text/plain": [
       "<Figure size 432x288 with 1 Axes>"
      ]
     },
     "metadata": {
      "needs_background": "light"
     },
     "output_type": "display_data"
    }
   ],
   "source": [
    "from matplotlib.patches import Rectangle\n",
    "import matplotlib.pyplot as plt\n",
    "fig, ax = plt.subplots(1)\n",
    "ax.axis([0,10,0,10])\n",
    "r = Rectangle((5,5),2,3, color = 'seagreen')\n",
    "r.set_label('A')\n",
    "ax.add_patch(r)\n",
    "ax.text(6,6.5, 'A',\n",
    "        horizontalalignment='center',\n",
    "        verticalalignment='center', color='k')\n",
    "plt.show()"
   ]
  },
  {
   "cell_type": "code",
   "execution_count": 4,
   "metadata": {},
   "outputs": [
    {
     "name": "stdout",
     "output_type": "stream",
     "text": [
      "['black', 'k', 'dimgray', 'dimgrey', 'gray', 'grey', 'darkgray', 'darkgrey', 'silver', 'lightgray', 'lightgrey', 'gainsboro', 'whitesmoke', 'w', 'white', 'snow', 'rosybrown', 'lightcoral', 'indianred', 'brown', 'firebrick', 'maroon', 'darkred', 'r', 'red', 'mistyrose', 'salmon', 'tomato', 'darksalmon', 'coral', 'orangered', 'lightsalmon', 'sienna', 'seashell', 'chocolate', 'saddlebrown', 'sandybrown', 'peachpuff', 'peru', 'linen', 'bisque', 'darkorange', 'burlywood', 'antiquewhite', 'tan', 'navajowhite', 'blanchedalmond', 'papayawhip', 'moccasin', 'orange', 'wheat', 'oldlace', 'floralwhite', 'darkgoldenrod', 'goldenrod', 'cornsilk', 'gold', 'lemonchiffon', 'khaki', 'palegoldenrod', 'darkkhaki', 'ivory', 'beige', 'lightyellow', 'lightgoldenrodyellow', 'olive', 'y', 'yellow', 'olivedrab', 'yellowgreen', 'darkolivegreen', 'greenyellow', 'chartreuse', 'lawngreen', 'honeydew', 'darkseagreen', 'palegreen', 'lightgreen', 'forestgreen', 'limegreen', 'darkgreen', 'g', 'green', 'lime', 'seagreen', 'mediumseagreen', 'springgreen', 'mintcream', 'mediumspringgreen', 'mediumaquamarine', 'aquamarine', 'turquoise', 'lightseagreen', 'mediumturquoise', 'azure', 'lightcyan', 'paleturquoise', 'darkslategray', 'darkslategrey', 'teal', 'darkcyan', 'c', 'aqua', 'cyan', 'darkturquoise', 'cadetblue', 'powderblue', 'lightblue', 'deepskyblue', 'skyblue', 'lightskyblue', 'steelblue', 'aliceblue', 'dodgerblue', 'lightslategray', 'lightslategrey', 'slategray', 'slategrey', 'lightsteelblue', 'cornflowerblue', 'royalblue', 'ghostwhite', 'lavender', 'midnightblue', 'navy', 'darkblue', 'mediumblue', 'b', 'blue', 'slateblue', 'darkslateblue', 'mediumslateblue', 'mediumpurple', 'rebeccapurple', 'blueviolet', 'indigo', 'darkorchid', 'darkviolet', 'mediumorchid', 'thistle', 'plum', 'violet', 'purple', 'darkmagenta', 'm', 'fuchsia', 'magenta', 'orchid', 'mediumvioletred', 'deeppink', 'hotpink', 'lavenderblush', 'palevioletred', 'crimson', 'pink', 'lightpink']\n"
     ]
    }
   ],
   "source": [
    "from __future__ import division\n",
    "\n",
    "import matplotlib.pyplot as plt\n",
    "from matplotlib import colors as mcolors\n",
    "\n",
    "\n",
    "colors = dict(mcolors.BASE_COLORS, **mcolors.CSS4_COLORS)\n",
    "\n",
    "# Sort colors by hue, saturation, value and name.\n",
    "by_hsv = sorted((tuple(mcolors.rgb_to_hsv(mcolors.to_rgba(color)[:3])), name)\n",
    "                for name, color in colors.items())\n",
    "sorted_names = [name for hsv, name in by_hsv]\n",
    "print(sorted_names)\n"
   ]
  }
 ],
 "metadata": {
  "kernelspec": {
   "display_name": "Python 3",
   "language": "python",
   "name": "python3"
  },
  "language_info": {
   "codemirror_mode": {
    "name": "ipython",
    "version": 3
   },
   "file_extension": ".py",
   "mimetype": "text/x-python",
   "name": "python",
   "nbconvert_exporter": "python",
   "pygments_lexer": "ipython3",
   "version": "3.7.6"
  }
 },
 "nbformat": 4,
 "nbformat_minor": 4
}
